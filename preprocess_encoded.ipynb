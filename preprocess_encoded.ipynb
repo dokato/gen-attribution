{
 "cells": [
  {
   "cell_type": "markdown",
   "metadata": {},
   "source": [
    "# Word embeddings for nucleotide tokens"
   ]
  },
  {
   "cell_type": "code",
   "execution_count": 214,
   "metadata": {},
   "outputs": [
    {
     "data": {
      "text/plain": [
       "<module 'word2vec_models' from '/Users/matthiastreder/git/gen-attribution/word2vec_models.py'>"
      ]
     },
     "execution_count": 214,
     "metadata": {},
     "output_type": "execute_result"
    }
   ],
   "source": [
    "import numpy as np\n",
    "import pandas as pd\n",
    "import sklearn, pickle\n",
    "import sentencepiece as sp\n",
    "import matplotlib.pyplot as plt\n",
    "\n",
    "from collections import defaultdict, Counter\n",
    "import itertools\n",
    "\n",
    "import word2vec_models as wv\n",
    "\n",
    "import importlib\n",
    "importlib.reload(wv) # reload wv if its already loaded"
   ]
  },
  {
   "cell_type": "code",
   "execution_count": 215,
   "metadata": {},
   "outputs": [],
   "source": [
    "datadir = '/Users/matthiastreder/data/deeplearn/genetic-engineering-attribution-challenge/'\n",
    "resultsdir = datadir + '/results/'"
   ]
  },
  {
   "cell_type": "markdown",
   "metadata": {},
   "source": [
    "## Preprocess encoded data"
   ]
  },
  {
   "cell_type": "code",
   "execution_count": 167,
   "metadata": {},
   "outputs": [
    {
     "name": "stdout",
     "output_type": "stream",
     "text": [
      "m1000.model                \u001b[34mresults\u001b[m\u001b[m\r\n",
      "m1000.vocab                test_values.csv\r\n",
      "m5000.model                train_labels.csv\r\n",
      "m5000.vocab                train_values.csv\r\n",
      "m800.model                 word2vec_train_data.pickle\r\n",
      "m800.vocab\r\n"
     ]
    }
   ],
   "source": [
    "!ls /Users/matthiastreder/data/deeplearn/genetic-engineering-attribution-challenge/"
   ]
  },
  {
   "cell_type": "code",
   "execution_count": 168,
   "metadata": {},
   "outputs": [
    {
     "data": {
      "text/html": [
       "<div>\n",
       "<style scoped>\n",
       "    .dataframe tbody tr th:only-of-type {\n",
       "        vertical-align: middle;\n",
       "    }\n",
       "\n",
       "    .dataframe tbody tr th {\n",
       "        vertical-align: top;\n",
       "    }\n",
       "\n",
       "    .dataframe thead th {\n",
       "        text-align: right;\n",
       "    }\n",
       "</style>\n",
       "<table border=\"1\" class=\"dataframe\">\n",
       "  <thead>\n",
       "    <tr style=\"text-align: right;\">\n",
       "      <th></th>\n",
       "      <th>sequence_id</th>\n",
       "      <th>sequence</th>\n",
       "      <th>bacterial_resistance_ampicillin</th>\n",
       "      <th>bacterial_resistance_chloramphenicol</th>\n",
       "      <th>bacterial_resistance_kanamycin</th>\n",
       "      <th>bacterial_resistance_other</th>\n",
       "      <th>bacterial_resistance_spectinomycin</th>\n",
       "      <th>copy_number_high_copy</th>\n",
       "      <th>copy_number_low_copy</th>\n",
       "      <th>copy_number_unknown</th>\n",
       "      <th>...</th>\n",
       "      <th>species_budding_yeast</th>\n",
       "      <th>species_fly</th>\n",
       "      <th>species_human</th>\n",
       "      <th>species_mouse</th>\n",
       "      <th>species_mustard_weed</th>\n",
       "      <th>species_nematode</th>\n",
       "      <th>species_other</th>\n",
       "      <th>species_rat</th>\n",
       "      <th>species_synthetic</th>\n",
       "      <th>species_zebrafish</th>\n",
       "    </tr>\n",
       "  </thead>\n",
       "  <tbody>\n",
       "    <tr>\n",
       "      <th>0</th>\n",
       "      <td>9ZIMC</td>\n",
       "      <td>CATGCATTAGTTATTAATAGTAATCAATTACGGGGTCATTAGTTCA...</td>\n",
       "      <td>0.0</td>\n",
       "      <td>0.0</td>\n",
       "      <td>1.0</td>\n",
       "      <td>0.0</td>\n",
       "      <td>0.0</td>\n",
       "      <td>1.0</td>\n",
       "      <td>0.0</td>\n",
       "      <td>0.0</td>\n",
       "      <td>...</td>\n",
       "      <td>0.0</td>\n",
       "      <td>0.0</td>\n",
       "      <td>0.0</td>\n",
       "      <td>1.0</td>\n",
       "      <td>0.0</td>\n",
       "      <td>0.0</td>\n",
       "      <td>0.0</td>\n",
       "      <td>0.0</td>\n",
       "      <td>0.0</td>\n",
       "      <td>0.0</td>\n",
       "    </tr>\n",
       "    <tr>\n",
       "      <th>1</th>\n",
       "      <td>5SAQC</td>\n",
       "      <td>GCTGGATGGTTTGGGACATGTGCAGCCCCGTCTCTGTATGGAGTGA...</td>\n",
       "      <td>1.0</td>\n",
       "      <td>0.0</td>\n",
       "      <td>0.0</td>\n",
       "      <td>0.0</td>\n",
       "      <td>0.0</td>\n",
       "      <td>1.0</td>\n",
       "      <td>0.0</td>\n",
       "      <td>0.0</td>\n",
       "      <td>...</td>\n",
       "      <td>0.0</td>\n",
       "      <td>0.0</td>\n",
       "      <td>0.0</td>\n",
       "      <td>1.0</td>\n",
       "      <td>0.0</td>\n",
       "      <td>0.0</td>\n",
       "      <td>0.0</td>\n",
       "      <td>0.0</td>\n",
       "      <td>0.0</td>\n",
       "      <td>0.0</td>\n",
       "    </tr>\n",
       "    <tr>\n",
       "      <th>2</th>\n",
       "      <td>E7QRO</td>\n",
       "      <td>NNCCGGGCTGTAGCTACACAGGGCGGAGATGAGAGCCCTACGAAAG...</td>\n",
       "      <td>1.0</td>\n",
       "      <td>0.0</td>\n",
       "      <td>0.0</td>\n",
       "      <td>0.0</td>\n",
       "      <td>0.0</td>\n",
       "      <td>1.0</td>\n",
       "      <td>0.0</td>\n",
       "      <td>0.0</td>\n",
       "      <td>...</td>\n",
       "      <td>0.0</td>\n",
       "      <td>0.0</td>\n",
       "      <td>0.0</td>\n",
       "      <td>1.0</td>\n",
       "      <td>0.0</td>\n",
       "      <td>0.0</td>\n",
       "      <td>0.0</td>\n",
       "      <td>0.0</td>\n",
       "      <td>0.0</td>\n",
       "      <td>0.0</td>\n",
       "    </tr>\n",
       "    <tr>\n",
       "      <th>3</th>\n",
       "      <td>CT5FP</td>\n",
       "      <td>GCGGAGATGAAGAGCCCTACGAAAGCTGAGCCTGCGACTCCCGCAG...</td>\n",
       "      <td>1.0</td>\n",
       "      <td>0.0</td>\n",
       "      <td>0.0</td>\n",
       "      <td>0.0</td>\n",
       "      <td>0.0</td>\n",
       "      <td>1.0</td>\n",
       "      <td>0.0</td>\n",
       "      <td>0.0</td>\n",
       "      <td>...</td>\n",
       "      <td>0.0</td>\n",
       "      <td>0.0</td>\n",
       "      <td>0.0</td>\n",
       "      <td>1.0</td>\n",
       "      <td>0.0</td>\n",
       "      <td>0.0</td>\n",
       "      <td>0.0</td>\n",
       "      <td>0.0</td>\n",
       "      <td>0.0</td>\n",
       "      <td>0.0</td>\n",
       "    </tr>\n",
       "    <tr>\n",
       "      <th>4</th>\n",
       "      <td>7PTD8</td>\n",
       "      <td>CGCGCATTACTTCACATGGTCCTCAAGGGTAACATGAAAGTGATCC...</td>\n",
       "      <td>1.0</td>\n",
       "      <td>0.0</td>\n",
       "      <td>0.0</td>\n",
       "      <td>0.0</td>\n",
       "      <td>0.0</td>\n",
       "      <td>1.0</td>\n",
       "      <td>0.0</td>\n",
       "      <td>0.0</td>\n",
       "      <td>...</td>\n",
       "      <td>0.0</td>\n",
       "      <td>0.0</td>\n",
       "      <td>0.0</td>\n",
       "      <td>1.0</td>\n",
       "      <td>0.0</td>\n",
       "      <td>0.0</td>\n",
       "      <td>0.0</td>\n",
       "      <td>0.0</td>\n",
       "      <td>0.0</td>\n",
       "      <td>0.0</td>\n",
       "    </tr>\n",
       "  </tbody>\n",
       "</table>\n",
       "<p>5 rows × 41 columns</p>\n",
       "</div>"
      ],
      "text/plain": [
       "  sequence_id                                           sequence  \\\n",
       "0       9ZIMC  CATGCATTAGTTATTAATAGTAATCAATTACGGGGTCATTAGTTCA...   \n",
       "1       5SAQC  GCTGGATGGTTTGGGACATGTGCAGCCCCGTCTCTGTATGGAGTGA...   \n",
       "2       E7QRO  NNCCGGGCTGTAGCTACACAGGGCGGAGATGAGAGCCCTACGAAAG...   \n",
       "3       CT5FP  GCGGAGATGAAGAGCCCTACGAAAGCTGAGCCTGCGACTCCCGCAG...   \n",
       "4       7PTD8  CGCGCATTACTTCACATGGTCCTCAAGGGTAACATGAAAGTGATCC...   \n",
       "\n",
       "   bacterial_resistance_ampicillin  bacterial_resistance_chloramphenicol  \\\n",
       "0                              0.0                                   0.0   \n",
       "1                              1.0                                   0.0   \n",
       "2                              1.0                                   0.0   \n",
       "3                              1.0                                   0.0   \n",
       "4                              1.0                                   0.0   \n",
       "\n",
       "   bacterial_resistance_kanamycin  bacterial_resistance_other  \\\n",
       "0                             1.0                         0.0   \n",
       "1                             0.0                         0.0   \n",
       "2                             0.0                         0.0   \n",
       "3                             0.0                         0.0   \n",
       "4                             0.0                         0.0   \n",
       "\n",
       "   bacterial_resistance_spectinomycin  copy_number_high_copy  \\\n",
       "0                                 0.0                    1.0   \n",
       "1                                 0.0                    1.0   \n",
       "2                                 0.0                    1.0   \n",
       "3                                 0.0                    1.0   \n",
       "4                                 0.0                    1.0   \n",
       "\n",
       "   copy_number_low_copy  copy_number_unknown  ...  species_budding_yeast  \\\n",
       "0                   0.0                  0.0  ...                    0.0   \n",
       "1                   0.0                  0.0  ...                    0.0   \n",
       "2                   0.0                  0.0  ...                    0.0   \n",
       "3                   0.0                  0.0  ...                    0.0   \n",
       "4                   0.0                  0.0  ...                    0.0   \n",
       "\n",
       "   species_fly  species_human  species_mouse  species_mustard_weed  \\\n",
       "0          0.0            0.0            1.0                   0.0   \n",
       "1          0.0            0.0            1.0                   0.0   \n",
       "2          0.0            0.0            1.0                   0.0   \n",
       "3          0.0            0.0            1.0                   0.0   \n",
       "4          0.0            0.0            1.0                   0.0   \n",
       "\n",
       "   species_nematode  species_other  species_rat  species_synthetic  \\\n",
       "0               0.0            0.0          0.0                0.0   \n",
       "1               0.0            0.0          0.0                0.0   \n",
       "2               0.0            0.0          0.0                0.0   \n",
       "3               0.0            0.0          0.0                0.0   \n",
       "4               0.0            0.0          0.0                0.0   \n",
       "\n",
       "   species_zebrafish  \n",
       "0                0.0  \n",
       "1                0.0  \n",
       "2                0.0  \n",
       "3                0.0  \n",
       "4                0.0  \n",
       "\n",
       "[5 rows x 41 columns]"
      ]
     },
     "execution_count": 168,
     "metadata": {},
     "output_type": "execute_result"
    }
   ],
   "source": [
    "train = pd.read_csv(datadir+'train_values.csv')\n",
    "train.head()"
   ]
  },
  {
   "cell_type": "code",
   "execution_count": 224,
   "metadata": {},
   "outputs": [
    {
     "name": "stdout",
     "output_type": "stream",
     "text": [
      "Encoded as 1000 integers\n"
     ]
    }
   ],
   "source": [
    "# encode tokens as integers\n",
    "vocab = 1000\n",
    "sp_model = sp.SentencePieceProcessor(model_file=datadir + f'm{vocab}.model')\n",
    "encoded = [sp_model.encode(seq) for seq in train.sequence]\n",
    "lens = [len(enc) for enc in encoded]\n",
    "print('Encoded as', sp_model.vocab_size(), 'integers')\n",
    "\n",
    "del sp_model"
   ]
  },
  {
   "cell_type": "code",
   "execution_count": 225,
   "metadata": {},
   "outputs": [],
   "source": [
    "# for efficiency we concatenate all the sequences into one array and pad the borders with -1's\n",
    "pad = 2\n",
    "encoded = [[-1]*pad + enc + [-1]*pad for enc in encoded]\n",
    "\n",
    "# flatten and convert to numpy\n",
    "encoded = np.array(list(itertools.chain(*encoded)), dtype=np.int16)"
   ]
  },
  {
   "cell_type": "code",
   "execution_count": 226,
   "metadata": {},
   "outputs": [
    {
     "data": {
      "text/plain": [
       "Text(0.5, 1.0, 'Histogram of token frequencies')"
      ]
     },
     "execution_count": 226,
     "metadata": {},
     "output_type": "execute_result"
    },
    {
     "data": {
      "image/png": "[encoded data removed]",
      "text/plain": [
       "<Figure size 432x288 with 1 Axes>"
      ]
     },
     "metadata": {
      "needs_background": "light"
     },
     "output_type": "display_data"
    }
   ],
   "source": [
    "plt.hist(encoded, density=True)\n",
    "plt.title('Histogram of token frequencies')"
   ]
  },
  {
   "cell_type": "code",
   "execution_count": 227,
   "metadata": {},
   "outputs": [],
   "source": [
    "# relative frequencies\n",
    "un = np.unique(encoded)\n",
    "rel_freq = np.array([np.count_nonzero(encoded==u) for u in un])/len(encoded)"
   ]
  },
  {
   "cell_type": "code",
   "execution_count": 228,
   "metadata": {},
   "outputs": [
    {
     "name": "stdout",
     "output_type": "stream",
     "text": [
      "Number of tokens with freq > 0.0001 (they get subsampled): 891/995\n"
     ]
    }
   ],
   "source": [
    "t = 0.0001\n",
    "print(f'Number of tokens with freq > {t} (they get subsampled): {np.count_nonzero(rel_freq > t)}/{len(un)}')\n",
    "\n",
    "discard_probabilities = wv.get_discard_probabilities_from_labels(encoded, t=t)\n",
    "discard_probabilities[encoded==-1] = 1  # we never want the padded -1's to be selected as targets"
   ]
  },
  {
   "cell_type": "code",
   "execution_count": 229,
   "metadata": {},
   "outputs": [],
   "source": [
    "# replace the -1's by mirroring the sequence, e.g.\n",
    "# 2, 3, 5, -1, -1  ->  2, 3, 5, 3, 2\n",
    "pos = 0\n",
    "for le in lens:\n",
    "    encoded[pos:pos+pad] = encoded[pos+pad+pad:pos+pad:-1] # fill up -1's at the left border\n",
    "    encoded[pos+le+pad:pos+le+2*pad] = encoded[pos+le+pad-2:pos+le-2:-1] # fill up -1's at the right border\n",
    "    pos += le + 2*pad"
   ]
  },
  {
   "cell_type": "code",
   "execution_count": 230,
   "metadata": {},
   "outputs": [],
   "source": [
    "# # COUNT THE NUMBER OF OCCURRENCES OF EACH TOKEN OVERALL (FOR SUBSAMPLING)\n",
    "# # build list of dictionaries. Each dict contains the counts for the tokens in the respective sequence\n",
    "# count_lists = [{key : value for key, value in Counter(enc).items()} for enc in encoded]\n",
    "\n",
    "# # add counts across all sequences\n",
    "# count = defaultdict(int)\n",
    "# for count_list in count_lists:\n",
    "#     for key, value in count_list.items():\n",
    "#         count[key] += value"
   ]
  },
  {
   "cell_type": "code",
   "execution_count": 231,
   "metadata": {},
   "outputs": [],
   "source": [
    "# this is nice but too inefficient\n",
    "# # dictionary mapping a token to all positions where it appears in the data. a position is a tuple \n",
    "# # (i, j) where i is the i-th sequence and j is the j-th position within that sequence\n",
    "# pos = defaultdict(list)\n",
    "# for ix, enc in enumerate(encoded):\n",
    "#     for u in np.unique(enc):\n",
    "#         pos[u].extend((ix, z) for z in np.where(enc == u)[0])"
   ]
  },
  {
   "cell_type": "code",
   "execution_count": 232,
   "metadata": {},
   "outputs": [],
   "source": [
    "# distribution for sampling negative targets in Skipgram\n",
    "negative_sampling_distribution = wv.get_negative_sampling_distribution(encoded)"
   ]
  },
  {
   "cell_type": "code",
   "execution_count": 233,
   "metadata": {},
   "outputs": [],
   "source": [
    "with open(resultsdir + f'word2vec_train_data_vocab{vocab}.pickle', 'wb') as f:\n",
    "    pickle.dump((encoded, discard_probabilities, t, negative_sampling_distribution), f)"
   ]
  }
 ],
 "metadata": {
  "kernelspec": {
   "display_name": "Python 3",
   "language": "python",
   "name": "python3"
  },
  "language_info": {
   "codemirror_mode": {
    "name": "ipython",
    "version": 3
   },
   "file_extension": ".py",
   "mimetype": "text/x-python",
   "name": "python",
   "nbconvert_exporter": "python",
   "pygments_lexer": "ipython3",
   "version": "3.7.7"
  }
 },
 "nbformat": 4,
 "nbformat_minor": 2
}
